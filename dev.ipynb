{
 "cells": [
  {
   "cell_type": "code",
   "execution_count": null,
   "metadata": {},
   "outputs": [],
   "source": [
    "import os\n",
    "import cv2\n",
    "import numpy as np\n",
    "import pandas as pd\n",
    "import matplotlib.pyplot as plt\n",
    "\n",
    "from trajectories.fitting import *\n",
    "from trajectories.filtering import *\n",
    "from visualization.graph import visualize_trajectory_graph\n",
    "from visualization.video import *\n",
    "\n",
    "%load_ext autoreload\n",
    "%autoreload 2"
   ]
  },
  {
   "cell_type": "code",
   "execution_count": null,
   "metadata": {},
   "outputs": [],
   "source": [
    "candidates = pd.read_csv('../volleyball_ball_annotation/0/13286.txt', sep=' ', names=['x', 'y']).values\n",
    "candidates = candidates[:, np.newaxis, [1,0]] # invert x and y\n",
    "candidates.shape"
   ]
  },
  {
   "cell_type": "code",
   "execution_count": null,
   "metadata": {},
   "outputs": [],
   "source": [
    "import time\n",
    "\n",
    "t0 = time.time()\n",
    "fitting_info = fit_trajectories(candidates, np.ones(len(candidates)))\n",
    "trajectory_graph = build_trajectory_graph(fitting_info)\n",
    "path_mapping = build_path_mapping(fitting_info, find_shortest_paths(trajectory_graph))\n",
    "t1 = time.time()\n",
    "\n",
    "t = t1-t0\n",
    "print(t)\n",
    "print(1/t)"
   ]
  },
  {
   "cell_type": "code",
   "execution_count": null,
   "metadata": {},
   "outputs": [],
   "source": [
    "visualize_trajectory_graph(trajectory_graph, whole_graph=True)\n",
    "plt.show()"
   ]
  },
  {
   "cell_type": "code",
   "execution_count": null,
   "metadata": {},
   "outputs": [],
   "source": [
    "frames_folder = '../volleyball_videos/0/13286/'\n",
    "create_trajectory_video(candidates, frames_folder, './bbb.mp4', fitting_info, path_mapping, fps=10)"
   ]
  }
 ],
 "metadata": {
  "kernelspec": {
   "display_name": "ml-general",
   "language": "python",
   "name": "python3"
  },
  "language_info": {
   "codemirror_mode": {
    "name": "ipython",
    "version": 3
   },
   "file_extension": ".py",
   "mimetype": "text/x-python",
   "name": "python",
   "nbconvert_exporter": "python",
   "pygments_lexer": "ipython3",
   "version": "3.11.6"
  }
 },
 "nbformat": 4,
 "nbformat_minor": 2
}
