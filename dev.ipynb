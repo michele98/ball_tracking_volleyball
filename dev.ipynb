{
 "cells": [
  {
   "cell_type": "code",
   "execution_count": null,
   "metadata": {},
   "outputs": [],
   "source": [
    "import os\n",
    "import cv2\n",
    "import numpy as np\n",
    "import pandas as pd\n",
    "import matplotlib.pyplot as plt\n",
    "\n",
    "from trajectories.fitting import *\n",
    "from trajectories.filtering import *\n",
    "from visualization.graph import visualize_trajectory_graph\n",
    "from visualization.video import *\n",
    "\n",
    "%load_ext autoreload\n",
    "%autoreload 2"
   ]
  },
  {
   "cell_type": "code",
   "execution_count": null,
   "metadata": {},
   "outputs": [],
   "source": [
    "# sources = ['60864', '60924']\n",
    "sources = sorted(os.listdir('../volleyball_videos/0/'))[:10]\n",
    "\n",
    "candidates = []\n",
    "for source in sources:\n",
    "    candidates.append(pd.read_csv(f'../volleyball_ball_annotation/0/{source}.txt', sep=' ', names=['x', 'y']).values)\n",
    "candidates = np.concatenate(candidates)[:, np.newaxis, [1,0]] # concatenate sources and invert x and y\n",
    "candidates.shape"
   ]
  },
  {
   "cell_type": "code",
   "execution_count": null,
   "metadata": {},
   "outputs": [],
   "source": [
    "import time\n",
    "\n",
    "t0 = time.time()\n",
    "fitting_info = fit_trajectories(candidates, np.ones(len(candidates)), seed_radius=60, d_threshold=20)\n",
    "trajectory_graph = build_trajectory_graph(fitting_info)\n",
    "shortest_paths = find_shortest_paths(trajectory_graph)\n",
    "path_mapping = build_path_mapping(fitting_info, shortest_paths)\n",
    "t1 = time.time()\n",
    "\n",
    "t = t1-t0\n",
    "print(t)\n",
    "print(1/t)"
   ]
  },
  {
   "cell_type": "code",
   "execution_count": null,
   "metadata": {},
   "outputs": [],
   "source": [
    "visualize_trajectory_graph(trajectory_graph, whole_graph=False)\n",
    "plt.show()"
   ]
  },
  {
   "cell_type": "code",
   "execution_count": null,
   "metadata": {},
   "outputs": [],
   "source": [
    "# sources_paths = f'../volleyball_videos/0/{sources}/'\n",
    "# output_name = f'{sources}.mp4'\n",
    "sources_paths = [f'../volleyball_videos/0/{src}/' for src in sources]\n",
    "output_name = 'out.mp4'\n",
    "\n",
    "create_trajectory_video(candidates, sources_paths, output_name, fitting_info, path_mapping, fps=10)"
   ]
  },
  {
   "cell_type": "markdown",
   "metadata": {},
   "source": [
    "# Triggers"
   ]
  },
  {
   "cell_type": "code",
   "execution_count": null,
   "metadata": {},
   "outputs": [],
   "source": [
    "seed_frames = [d['k_seed'] for d in fitting_info['trajectories']]\n",
    "\n",
    "starting_frame = fitting_info['trajectories'][0]['k_seed']\n",
    "\n",
    "velocities = []\n",
    "v = np.array([0,0])\n",
    "for frame_index in seed_frames:\n",
    "    pm = path_mapping[frame_index]\n",
    "    if pm is None:\n",
    "        velocities.append(v)\n",
    "        continue\n",
    "    trajectory_info = fitting_info['trajectories'][pm]\n",
    "\n",
    "    t = frame_index - trajectory_info['k_min']\n",
    "\n",
    "    v0 = trajectory_info['v']\n",
    "    a = trajectory_info['a']\n",
    "\n",
    "    v = v0 + a*t\n",
    "    velocities.append(v)\n",
    "\n",
    "velocities = np.vstack(velocities)\n",
    "accelerations = np.vstack([np.array([[0,0]]), velocities[1:]-velocities[:-1]])"
   ]
  },
  {
   "cell_type": "code",
   "execution_count": null,
   "metadata": {},
   "outputs": [],
   "source": [
    "acceleration_angles = np.arctan2(accelerations[:,1], accelerations[:,0])/np.pi*180\n",
    "acceleration_norms = np.linalg.norm(accelerations, axis=1)\n",
    "norms_ratio = acceleration_norms[1:]/np.where(acceleration_norms[:-1]==0, 1, acceleration_norms[:-1])\n",
    "norms_ratio = np.concatenate([[0], norms_ratio])\n",
    "\n",
    "ag = 70\n",
    "print(np.where(norms_ratio>5)[0])\n",
    "print(np.where(np.abs(acceleration_angles)>ag)[0])\n",
    "\n",
    "triggers = np.where((norms_ratio>5) & (np.abs(acceleration_angles)>ag))[0]\n",
    "print(triggers)"
   ]
  },
  {
   "cell_type": "code",
   "execution_count": null,
   "metadata": {},
   "outputs": [],
   "source": [
    "sources_paths = [f'../volleyball_videos/0/{src}/' for src in sources]\n",
    "output_name = 'out_trig.mp4'\n",
    "\n",
    "create_trajectory_video(candidates, sources_paths, output_name, fitting_info, path_mapping, fps=30, trigger_frames=triggers)"
   ]
  },
  {
   "cell_type": "code",
   "execution_count": null,
   "metadata": {},
   "outputs": [],
   "source": [
    "sources_paths = [f'../volleyball_videos/0/{src}/' for src in sources]\n",
    "output_name = 'out_trig_clean.mp4'\n",
    "\n",
    "create_trajectory_video(candidates, sources_paths, output_name, fitting_info, path_mapping,\n",
    "                        fps=30,\n",
    "                        trigger_frames=triggers,\n",
    "                        display=None,\n",
    "                        num_prev=0,\n",
    "                        num_next=0)"
   ]
  }
 ],
 "metadata": {
  "kernelspec": {
   "display_name": "ml-general",
   "language": "python",
   "name": "python3"
  },
  "language_info": {
   "codemirror_mode": {
    "name": "ipython",
    "version": 3
   },
   "file_extension": ".py",
   "mimetype": "text/x-python",
   "name": "python",
   "nbconvert_exporter": "python",
   "pygments_lexer": "ipython3",
   "version": "3.11.6"
  }
 },
 "nbformat": 4,
 "nbformat_minor": 2
}
