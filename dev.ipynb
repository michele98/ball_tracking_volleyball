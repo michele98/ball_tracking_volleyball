{
 "cells": [
  {
   "cell_type": "code",
   "execution_count": null,
   "metadata": {},
   "outputs": [],
   "source": [
    "import os\n",
    "import cv2\n",
    "import numpy as np\n",
    "import pandas as pd\n",
    "import matplotlib.pyplot as plt\n",
    "\n",
    "from trajectories.fitting import *\n",
    "from trajectories.filtering import *\n",
    "from visualization.graph import visualize_trajectory_graph\n",
    "from visualization.video import *\n",
    "\n",
    "%load_ext autoreload\n",
    "%autoreload 2"
   ]
  },
  {
   "cell_type": "code",
   "execution_count": null,
   "metadata": {},
   "outputs": [],
   "source": [
    "# sources = ['60864', '60924']\n",
    "sources = sorted(os.listdir('../volleyball_videos/0/'))[:10]\n",
    "\n",
    "candidates = []\n",
    "for source in sources:\n",
    "    candidates.append(pd.read_csv(f'../volleyball_ball_annotation/0/{source}.txt', sep=' ', names=['x', 'y']).values)\n",
    "candidates = np.concatenate(candidates)[:, np.newaxis, [1,0]] # concatenate sources and invert x and y\n",
    "candidates.shape"
   ]
  },
  {
   "cell_type": "code",
   "execution_count": null,
   "metadata": {},
   "outputs": [],
   "source": [
    "import time\n",
    "\n",
    "t0 = time.time()\n",
    "fitting_info = fit_trajectories(candidates, np.ones(len(candidates)))\n",
    "trajectory_graph = build_trajectory_graph(fitting_info)\n",
    "path_mapping = build_path_mapping(fitting_info, find_shortest_paths(trajectory_graph))\n",
    "t1 = time.time()\n",
    "\n",
    "t = t1-t0\n",
    "print(t)\n",
    "print(1/t)"
   ]
  },
  {
   "cell_type": "code",
   "execution_count": null,
   "metadata": {},
   "outputs": [],
   "source": [
    "visualize_trajectory_graph(trajectory_graph, whole_graph=False)\n",
    "plt.show()"
   ]
  },
  {
   "cell_type": "code",
   "execution_count": null,
   "metadata": {},
   "outputs": [],
   "source": [
    "# sources_paths = f'../volleyball_videos/0/{sources}/'\n",
    "# output_name = f'{sources}.mp4'\n",
    "sources_paths = [f'../volleyball_videos/0/{src}/' for src in sources]\n",
    "output_name = 'out.mp4'\n",
    "\n",
    "create_trajectory_video(candidates, sources_paths, output_name, fitting_info, path_mapping, fps=10, display='all')"
   ]
  }
 ],
 "metadata": {
  "kernelspec": {
   "display_name": "ml-general",
   "language": "python",
   "name": "python3"
  },
  "language_info": {
   "codemirror_mode": {
    "name": "ipython",
    "version": 3
   },
   "file_extension": ".py",
   "mimetype": "text/x-python",
   "name": "python",
   "nbconvert_exporter": "python",
   "pygments_lexer": "ipython3",
   "version": "3.11.6"
  }
 },
 "nbformat": 4,
 "nbformat_minor": 2
}
